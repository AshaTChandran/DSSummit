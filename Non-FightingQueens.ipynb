{
 "cells": [
  {
   "cell_type": "markdown",
   "metadata": {},
   "source": [
    "#                                        Eight Queen Puzzle"
   ]
  },
  {
   "cell_type": "markdown",
   "metadata": {},
   "source": [
    "The eight queens puzzle is the problem of placing eight chess queens on an 8×8 chessboard so that no two queens threaten each other; thus, a solution requires that no two queens share the same row, column, or diagonal. The eight queens puzzle is an example of the more general n queens problem of placing n n\n",
    "on-attacking queens on an n×n chessboard\n",
    "\n",
    "The challenge is to generate one right sequence through Genetic Programming. The sequence has to be 8 numbers between 0 to 7. Each number represents the positions the Queens can be placed. Each number refers to the row number in the specific column\n",
    "\n",
    "                                                    0 3 4 5 6 1 2 4\n",
    "\n",
    "                        0 is the row number in the column 0 where the Queen can be placed\n",
    "\n",
    "                        3 is the row number in the column 1 where the Queen can be placed"
   ]
  },
  {
   "cell_type": "markdown",
   "metadata": {},
   "source": [
    "# Genetic Algorithm"
   ]
  },
  {
   "cell_type": "markdown",
   "metadata": {},
   "source": [
    "\n",
    "Like in nature, we have to find an offspring which meets the target criteria crossing two parents from the population.\n",
    "Different steps in genetic algorithm is as follows:\n",
    "\n",
    "    1. Step 1 - Initializing a pool\n",
    "            Here since we are doing a 8X8 queens puzzle, we are creating a pool of population each have 8 posistions\n",
    "            with number 0 to 7\n",
    "    2. Step 2 - Evaluate the fitness of each element of the population\n",
    "            Find the fitness using the fitness function. Most fit sequence is where there is no clashes between the queens.\n",
    "            Maximum number of clashes between the queens can be find with equation max clashes = N * (N-1)/2 , where\n",
    "            N is the number of Queens. For an 8 queen puzzle, max Clashes that can happen is 28, so the \n",
    "            maximum fitness is 28.\n",
    "    3. Step 3 - Selection\n",
    "            From the population select two parents randomly\n",
    "    4. Step 4 - Cross overor Mutation\n",
    "            Cross over happen when some traits from each parents are taken and used for the creation of child sequence.\n",
    "            Mutation happen once in a while, when the child displays a behaviour different than its parent.\n",
    "            \n",
    "    5. Repeat - Repeat the process until we receive a fit child\n",
    "            \n",
    "    \n",
    "            \n",
    "                            "
   ]
  },
  {
   "cell_type": "code",
   "execution_count": 1,
   "metadata": {},
   "outputs": [],
   "source": [
    "import numpy as np\n",
    "boardSize = 8 # number of non-fighting Queens\n",
    "init_population =[]"
   ]
  },
  {
   "cell_type": "code",
   "execution_count": 2,
   "metadata": {},
   "outputs": [],
   "source": [
    "class nonFightingPositions:\n",
    "    def __init__(self):\n",
    "        self.positions = None\n",
    "        self.fitness = None\n",
    "        \n",
    "    def setPositions(self,val):\n",
    "        self.positions = val\n",
    "        \n",
    "    def setFitness(self,val):\n",
    "        self.fitness = val\n",
    "               "
   ]
  },
  {
   "cell_type": "code",
   "execution_count": 3,
   "metadata": {},
   "outputs": [],
   "source": [
    "def getPositions(): #random positions\n",
    "    init_positions = np.arange(boardSize)\n",
    "    np.random.shuffle(init_positions)\n",
    "    return init_positions"
   ]
  },
  {
   "cell_type": "code",
   "execution_count": 4,
   "metadata": {},
   "outputs": [],
   "source": [
    "def initiate_population(size): # initial population\n",
    "    global init_population \n",
    "    init_population = [nonFightingPositions() for each in range(size) ]\n",
    "    for i in range(size):\n",
    "        init_population[i].setPositions(getPositions())\n",
    "        init_population[i].setFitness(fitness(init_population[i].positions))\n",
    "    #print(population)\n",
    "    return init_population\n",
    "    "
   ]
  },
  {
   "cell_type": "code",
   "execution_count": 5,
   "metadata": {},
   "outputs": [],
   "source": [
    "def mclashes(nQ): # maximum clashes\n",
    "    max_clashes = nQ*(nQ-1)/2\n",
    "    return max_clashes"
   ]
  },
  {
   "cell_type": "code",
   "execution_count": 6,
   "metadata": {},
   "outputs": [],
   "source": [
    "def fitness(individual): # fitness of each\n",
    "    #If same dimension in each row then its a clash. So 8 - unique number clashes    \n",
    "    unique_dimn = np.unique(individual)\n",
    "    clashes = boardSize - len(unique_dimn)\n",
    "    for pos in range(boardSize):\n",
    "        for dim in range(boardSize):\n",
    "            if pos!= dim:\n",
    "                abs_pos = abs(dim - pos)\n",
    "                abs_val = abs(individual[pos]-individual[dim])\n",
    "                if abs_pos == abs_val:\n",
    "                    clashes+=1\n",
    "    max_clashes = int(mclashes(boardSize))\n",
    "    fitness_score = (max_clashes - clashes)/max_clashes\n",
    "    return fitness_score\n",
    "        "
   ]
  },
  {
   "cell_type": "markdown",
   "metadata": {},
   "source": [
    "Get parent from the population"
   ]
  },
  {
   "cell_type": "code",
   "execution_count": 7,
   "metadata": {},
   "outputs": [],
   "source": [
    "def getParent(): # Select the parents\n",
    "    \n",
    "    fit_parent1 = 0\n",
    "    while(fit_parent1 == 0):\n",
    "        index_parent1 = np.random.randint(len(init_population))\n",
    "        parent1 = init_population[index_parent1]\n",
    "        if parent1.fitness > 0.5 :\n",
    "            fit_parent1 = 1\n",
    "            \n",
    "    fit_parent2 = 0\n",
    "    while(fit_parent2 == 0):\n",
    "        index_parent2 = np.random.randint(len(init_population))\n",
    "        parent2 = init_population[index_parent2]\n",
    "        if parent2.fitness > 0.5 :\n",
    "            fit_parent2 = 1\n",
    "    \n",
    "    return parent1, parent2\n",
    "    "
   ]
  },
  {
   "cell_type": "markdown",
   "metadata": {},
   "source": [
    "Cross Over"
   ]
  },
  {
   "cell_type": "code",
   "execution_count": 8,
   "metadata": {},
   "outputs": [],
   "source": [
    "def getChildCrossOver(p1,p2):\n",
    "    cross_index = np.random.randint(boardSize)\n",
    "    child = nonFightingPositions()\n",
    "    child.positions = []\n",
    "    parent1_gene = p1.positions[:cross_index]\n",
    "    parent2_gene = p2.positions[cross_index:]\n",
    "    child.positions.extend(parent1_gene)\n",
    "    child.positions.extend(parent2_gene)\n",
    "    np.random.shuffle(child.positions)\n",
    "    child.setFitness(fitness(child.positions))\n",
    "    return child\n",
    "    "
   ]
  },
  {
   "cell_type": "code",
   "execution_count": 9,
   "metadata": {},
   "outputs": [],
   "source": [
    "def GeneticComputing(iteration,pop_size):\n",
    "    \n",
    "    for i in range(pop_size):\n",
    "        parent1,parent2 = getParent()\n",
    "        new_child = getChildCrossOver(parent1,parent2)\n",
    "        child_fitness = new_child.fitness\n",
    "        if child_fitness == 1:\n",
    "            print(\"Iteration:{}, child: {}, fitness_score: {}\".format(iteration,new_child.positions,child_fitness))"
   ]
  },
  {
   "cell_type": "code",
   "execution_count": 10,
   "metadata": {},
   "outputs": [],
   "source": [
    "def main():\n",
    "    population_size = 100\n",
    "    initial_population = initiate_population(population_size)\n",
    "    iteration = 1000\n",
    "    for i in range(iteration):\n",
    "        GeneticComputing(i,population_size)"
   ]
  },
  {
   "cell_type": "code",
   "execution_count": 11,
   "metadata": {},
   "outputs": [
    {
     "name": "stdout",
     "output_type": "stream",
     "text": [
      "Iteration:5, child: [4, 1, 5, 0, 6, 3, 7, 2], fitness_score: 1.0\n",
      "Iteration:41, child: [3, 6, 4, 1, 5, 0, 2, 7], fitness_score: 1.0\n",
      "Iteration:109, child: [4, 0, 7, 5, 2, 6, 1, 3], fitness_score: 1.0\n",
      "Iteration:140, child: [4, 1, 7, 0, 3, 6, 2, 5], fitness_score: 1.0\n",
      "Iteration:207, child: [5, 2, 6, 3, 0, 7, 1, 4], fitness_score: 1.0\n",
      "Iteration:237, child: [2, 7, 3, 6, 0, 5, 1, 4], fitness_score: 1.0\n",
      "Iteration:281, child: [4, 6, 0, 3, 1, 7, 5, 2], fitness_score: 1.0\n",
      "Iteration:287, child: [4, 1, 5, 0, 6, 3, 7, 2], fitness_score: 1.0\n",
      "Iteration:368, child: [1, 5, 0, 6, 3, 7, 2, 4], fitness_score: 1.0\n",
      "Iteration:372, child: [4, 1, 5, 0, 6, 3, 7, 2], fitness_score: 1.0\n",
      "Iteration:379, child: [2, 5, 1, 6, 4, 0, 7, 3], fitness_score: 1.0\n",
      "Iteration:380, child: [1, 5, 7, 2, 0, 3, 6, 4], fitness_score: 1.0\n",
      "Iteration:395, child: [6, 1, 3, 0, 7, 4, 2, 5], fitness_score: 1.0\n",
      "Iteration:401, child: [5, 2, 6, 1, 7, 4, 0, 3], fitness_score: 1.0\n",
      "Iteration:409, child: [6, 1, 3, 0, 7, 4, 2, 5], fitness_score: 1.0\n",
      "Iteration:409, child: [0, 6, 4, 7, 1, 3, 5, 2], fitness_score: 1.0\n",
      "Iteration:432, child: [0, 5, 7, 2, 6, 3, 1, 4], fitness_score: 1.0\n",
      "Iteration:442, child: [1, 5, 7, 2, 0, 3, 6, 4], fitness_score: 1.0\n",
      "Iteration:470, child: [7, 2, 0, 5, 1, 4, 6, 3], fitness_score: 1.0\n",
      "Iteration:473, child: [3, 1, 6, 4, 0, 7, 5, 2], fitness_score: 1.0\n",
      "Iteration:484, child: [6, 3, 1, 4, 7, 0, 2, 5], fitness_score: 1.0\n",
      "Iteration:504, child: [3, 6, 4, 2, 0, 5, 7, 1], fitness_score: 1.0\n",
      "Iteration:624, child: [7, 3, 0, 2, 5, 1, 6, 4], fitness_score: 1.0\n",
      "Iteration:629, child: [0, 5, 7, 2, 6, 3, 1, 4], fitness_score: 1.0\n",
      "Iteration:643, child: [7, 1, 3, 0, 6, 4, 2, 5], fitness_score: 1.0\n",
      "Iteration:648, child: [5, 1, 6, 0, 3, 7, 4, 2], fitness_score: 1.0\n",
      "Iteration:648, child: [6, 2, 7, 1, 4, 0, 5, 3], fitness_score: 1.0\n",
      "Iteration:673, child: [1, 3, 5, 7, 2, 0, 6, 4], fitness_score: 1.0\n",
      "Iteration:673, child: [5, 2, 0, 7, 4, 1, 3, 6], fitness_score: 1.0\n",
      "Iteration:689, child: [5, 7, 1, 3, 0, 6, 4, 2], fitness_score: 1.0\n",
      "Iteration:698, child: [5, 2, 0, 7, 3, 1, 6, 4], fitness_score: 1.0\n",
      "Iteration:708, child: [4, 6, 3, 0, 2, 7, 5, 1], fitness_score: 1.0\n",
      "Iteration:717, child: [3, 6, 0, 7, 4, 1, 5, 2], fitness_score: 1.0\n",
      "Iteration:727, child: [5, 2, 0, 7, 4, 1, 3, 6], fitness_score: 1.0\n",
      "Iteration:732, child: [0, 5, 7, 2, 6, 3, 1, 4], fitness_score: 1.0\n",
      "Iteration:736, child: [1, 5, 7, 2, 0, 3, 6, 4], fitness_score: 1.0\n",
      "Iteration:795, child: [4, 0, 3, 5, 7, 1, 6, 2], fitness_score: 1.0\n",
      "Iteration:796, child: [7, 2, 0, 5, 1, 4, 6, 3], fitness_score: 1.0\n",
      "Iteration:799, child: [3, 1, 6, 4, 0, 7, 5, 2], fitness_score: 1.0\n",
      "Iteration:852, child: [5, 2, 0, 7, 4, 1, 3, 6], fitness_score: 1.0\n",
      "Iteration:855, child: [7, 1, 3, 0, 6, 4, 2, 5], fitness_score: 1.0\n",
      "Iteration:867, child: [0, 6, 4, 7, 1, 3, 5, 2], fitness_score: 1.0\n",
      "Iteration:877, child: [4, 6, 3, 0, 2, 7, 5, 1], fitness_score: 1.0\n",
      "Iteration:912, child: [1, 5, 7, 2, 0, 3, 6, 4], fitness_score: 1.0\n",
      "Iteration:914, child: [2, 4, 7, 3, 0, 6, 1, 5], fitness_score: 1.0\n",
      "Iteration:925, child: [5, 3, 6, 0, 7, 1, 4, 2], fitness_score: 1.0\n",
      "Iteration:939, child: [7, 3, 0, 2, 5, 1, 6, 4], fitness_score: 1.0\n",
      "Iteration:940, child: [4, 6, 0, 2, 7, 5, 3, 1], fitness_score: 1.0\n",
      "Iteration:949, child: [6, 3, 1, 7, 5, 0, 2, 4], fitness_score: 1.0\n",
      "Iteration:950, child: [4, 2, 7, 3, 6, 0, 5, 1], fitness_score: 1.0\n",
      "Iteration:991, child: [0, 5, 7, 2, 6, 3, 1, 4], fitness_score: 1.0\n",
      "Iteration:995, child: [4, 0, 7, 5, 2, 6, 1, 3], fitness_score: 1.0\n"
     ]
    }
   ],
   "source": [
    "main()"
   ]
  },
  {
   "cell_type": "code",
   "execution_count": null,
   "metadata": {},
   "outputs": [],
   "source": []
  }
 ],
 "metadata": {
  "kernelspec": {
   "display_name": "Python 3",
   "language": "python",
   "name": "python3"
  },
  "language_info": {
   "codemirror_mode": {
    "name": "ipython",
    "version": 3
   },
   "file_extension": ".py",
   "mimetype": "text/x-python",
   "name": "python",
   "nbconvert_exporter": "python",
   "pygments_lexer": "ipython3",
   "version": "3.7.3"
  }
 },
 "nbformat": 4,
 "nbformat_minor": 2
}
